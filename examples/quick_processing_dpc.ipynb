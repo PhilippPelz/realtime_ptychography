{
 "cells": [
  {
   "cell_type": "code",
   "execution_count": 1,
   "metadata": {
    "pycharm": {
     "is_executing": false
    }
   },
   "outputs": [],
   "source": [
    "%matplotlib widget\n",
    "import numpy as np\n",
    "import cupy as cp\n",
    "\n",
    "import matplotlib.pyplot as plt \n",
    "from matplotlib_scalebar.scalebar import ScaleBar\n",
    "from mpl_toolkits.axes_grid1 import make_axes_locatable\n",
    "\n",
    "import realtime_ptycho as sm\n",
    "from realtime_ptycho.core import Sparse4DData, Metadata4D\n",
    "from realtime_ptycho.util import get_qx_qy_1D, get_qx_qy_2D, disk_overlap_function, plotcxmosaic, sector_mask, plot, single_sideband_reconstruction, imsave, mosaic, sparse_to_dense_datacube, wavelength\n",
    "\n",
    "from numpy.fft import fftshift\n",
    "\n",
    "from py4DSTEM.process.dpc import get_phase_from_CoM\n",
    "from pathlib import Path\n",
    "\n",
    "from tifffile import  imwrite\n",
    "import time\n",
    "\n",
    "from ipywidgets import AppLayout, FloatSlider, GridspecLayout, VBox, IntSlider, FloatLogSlider, HBox\n",
    "import ipywidgets as widgets\n",
    "\n",
    "import time\n",
    "\n",
    "import cupy as cp\n",
    "from cupyx.scipy.fft import fft2\n",
    "\n",
    "from tqdm import trange\n",
    "from skimage.filters import gaussian"
   ]
  },
  {
   "cell_type": "code",
   "execution_count": 2,
   "metadata": {},
   "outputs": [],
   "source": [
    "scan_number = 147\n",
    "\n",
    "base_path = Path(os.getcwd())\n",
    "adfpath = base_path\n",
    "sparse_path = base_path  \n",
    "results_path = base_path / 'results/'\n",
    "\n",
    "if not results_path.exists():\n",
    "    results_path.mkdir()\n",
    "    \n",
    "filename4d = sparse_path / f'data_scan{scan_number}_th4.0_electrons.h5'\n",
    "filenameadf = adfpath / f'scan{scan_number}.dm4'\n",
    "\n",
    "alpha_max_factor = 1.2\n",
    "alpha_max_factor = 1.05"
   ]
  },
  {
   "cell_type": "code",
   "execution_count": 3,
   "metadata": {
    "collapsed": false,
    "jupyter": {
     "outputs_hidden": false
    },
    "pycharm": {
     "is_executing": false,
     "name": "#%%\n"
    }
   },
   "outputs": [
    {
     "name": "stdout",
     "output_type": "stream",
     "text": [
      "1: data loading\n",
      "center: [292.20951103 160.73790153]\n",
      "radius: 123.21053157858441\n",
      "2: cropping\n",
      "old frames frame_dimensions: [576 576]\n",
      "new frames frame_dimensions: [258 258]\n",
      "3: sum diffraction pattern\n",
      "4: plotting\n"
     ]
    },
    {
     "data": {
      "application/vnd.jupyter.widget-view+json": {
       "model_id": "074fa740d0d14a0f987702e9e12c7543",
       "version_major": 2,
       "version_minor": 0
      },
      "text/plain": [
       "Canvas(toolbar=Toolbar(toolitems=[('Home', 'Reset original view', 'home', 'home'), ('Back', 'Back to previous …"
      ]
     },
     "metadata": {},
     "output_type": "display_data"
    }
   ],
   "source": [
    "print('1: data loading')\n",
    "d = Sparse4DData.from_4Dcamera_file(filename4d)\n",
    "metadata = Metadata4D.from_dm4_file(filenameadf)\n",
    "\n",
    "metadata.alpha_rad = 25e-3\n",
    "metadata.rotation_deg = 0\n",
    "metadata.wavelength =  wavelength(metadata.E_ev)  \n",
    "\n",
    "center, radius = d.determine_center_and_radius(manual=False, size=200) \n",
    "print(f'center: {center}')\n",
    "print(f'radius: {radius}')\n",
    "print('2: cropping')\n",
    "d.crop_symmetric_center_(center, radius*alpha_max_factor)\n",
    "print('3: sum diffraction pattern')\n",
    "s = d.sum_diffraction()\n",
    "print('4: plotting')\n",
    "\n",
    "f,ax = plt.subplots(1,2,figsize=(8,4))\n",
    "imax = ax[0].imshow(s)\n",
    "ax[0].set_title(f'Scan {scan_number} sum after cropping')\n",
    "imax = ax[1].imshow(np.log10(s+1))\n",
    "ax[1].set_title(f'Scan {scan_number} log10(sum) after cropping')\n",
    "plt.colorbar(imax)\n",
    "plt.tight_layout()\n"
   ]
  },
  {
   "cell_type": "code",
   "execution_count": 4,
   "metadata": {
    "pycharm": {
     "is_executing": false
    }
   },
   "outputs": [
    {
     "name": "stdout",
     "output_type": "stream",
     "text": [
      "dR              = [0.31626087 0.31626087] Å\n",
      "scan       size = [512 512]\n",
      "detector   size = [258 258]\n",
      "scan       FOV  = [16.19255676 16.19255676] nm\n",
      "fluence         ~ 21622.471675663513 e/Å^2\n",
      "flux            ~ 7176.036971217062 e/Å^2/s\n"
     ]
    }
   ],
   "source": [
    "dwell_time = 1/87e3\n",
    "detector_to_real_fluence_80kv = 1#1/0.56\n",
    "\n",
    "fluence = d.fluence(metadata.dr[0]) * detector_to_real_fluence_80kv\n",
    "flux = d.flux(metadata.dr[0], dwell_time) * detector_to_real_fluence_80kv\n",
    "\n",
    "# print(f\"E               = {metadata.E_ev/1e3}             keV\")\n",
    "# print(f\"λ               = {metadata.wavelength * 1e2:2.2}   pm\")\n",
    "print(f\"dR              = {metadata.dr} Å\")\n",
    "print(f\"scan       size = {d.scan_dimensions}\")\n",
    "print(f\"detector   size = {d.frame_dimensions}\")\n",
    "print(f\"scan       FOV  = {d.scan_dimensions*metadata.dr/10} nm\")\n",
    "print(f\"fluence         ~ {fluence} e/Å^2\")\n",
    "print(f\"flux            ~ {flux} e/Å^2/s\")"
   ]
  },
  {
   "cell_type": "code",
   "execution_count": 5,
   "metadata": {},
   "outputs": [],
   "source": [
    "def get_phase_from_CoM(CoMx, CoMy, theta, flip, regLowPass=0.5, regHighPass=100, paddingfactor=2,\n",
    "                                                stepsize=1, n_iter=10, phase_init=None):\n",
    "    \"\"\"\n",
    "    Calculate the phase of the sample transmittance from the diffraction centers of mass.\n",
    "    A bare bones description of the approach taken here is below - for detailed discussion of the\n",
    "    relevant theory, see, e.g.:\n",
    "        Ishizuka et al, Microscopy (2017) 397-405\n",
    "        Close et al, Ultramicroscopy 159 (2015) 124-137\n",
    "        Wadell and Chapman, Optik 54 (1979) No. 2, 83-96\n",
    "\n",
    "    The idea here is that the deflection of the center of mass of the electron beam in the\n",
    "    diffraction plane scales linearly with the gradient of the phase of the sample transmittance.\n",
    "    When this correspondence holds, it is therefore possible to invert the differential equation and\n",
    "    extract the phase itself.* The primary assumption made is that the sample is well\n",
    "    described as a pure phase object (i.e. the real part of the transmittance is 1). The inversion\n",
    "    is performed in this algorithm in Fourier space, i.e. using the Fourier transform property\n",
    "    that derivatives in real space are turned into multiplication in Fourier space.\n",
    "\n",
    "    *Note: because in DPC a differential equation is being inverted - i.e. the  fundamental theorem\n",
    "    of calculus is invoked - one might be tempted to call this \"integrated differential phase\n",
    "    contrast\".  Strictly speaking, this term is redundant - performing an integration is simply how\n",
    "    DPC works.  Anyone who tells you otherwise is selling something.\n",
    "\n",
    "    Accepts:\n",
    "        CoMx            (2D array) the diffraction space centers of mass x coordinates\n",
    "        CoMy            (2D array) the diffraction space centers of mass y coordinates\n",
    "        theta           (float) the rotational offset between real and diffraction space coordinates\n",
    "        flip            (bool) whether or not the real and diffraction space coords contain a\n",
    "                        relative flip\n",
    "        regLowPass      (float) low pass regularization term for the Fourier integration operators\n",
    "        regHighPass     (float) high pass regularization term for the Fourier integration operators\n",
    "        paddingfactor   (int) padding to add to the CoM arrays for boundry condition handling.\n",
    "                        1 corresponds to no padding, 2 to doubling the array size, etc.\n",
    "        stepsize        (float) the stepsize in the iteration step which updates the phase\n",
    "        n_iter          (int) the number of iterations\n",
    "        phase_init      (2D array) initial guess for the phase\n",
    "\n",
    "    Returns:\n",
    "        phase           (2D array) the phase of the sample transmittance\n",
    "        error           (1D array) the error - RMSD of the phase gradients compared to the CoM - at\n",
    "                        each iteration step\n",
    "    \"\"\"\n",
    "\n",
    "    # Coordinates\n",
    "    R_Nx,R_Ny = CoMx.shape\n",
    "    R_Nx_padded,R_Ny_padded = R_Nx*paddingfactor,R_Ny*paddingfactor\n",
    "\n",
    "    qx = cp.fft.fftfreq(R_Nx_padded)\n",
    "    qy = cp.fft.rfftfreq(R_Ny_padded)\n",
    "    qr2 = qx[:,None]**2 + qy[None,:]**2\n",
    "\n",
    "    # Invese operators\n",
    "    denominator = qr2 + regHighPass + qr2**2*regLowPass\n",
    "    _ = np.seterr(divide='ignore')\n",
    "    denominator = 1./denominator\n",
    "    denominator[0,0] = 0\n",
    "    _ = np.seterr(divide='warn')\n",
    "    f = 1j * 0.25*stepsize\n",
    "    qxOperator = f*qx[:,None]*denominator\n",
    "    qyOperator = f*qy[None,:]*denominator\n",
    "\n",
    "    # Perform rotation and flipping\n",
    "    if not flip:\n",
    "        CoMx_rot = CoMx*np.cos(theta) - CoMy*np.sin(theta)\n",
    "        CoMy_rot = CoMx*np.sin(theta) + CoMy*np.cos(theta)\n",
    "    if flip:\n",
    "        CoMx_rot = CoMx*np.cos(theta) + CoMy*np.sin(theta)\n",
    "        CoMy_rot = CoMx*np.sin(theta) - CoMy*np.cos(theta)\n",
    "\n",
    "    # Initializations\n",
    "    phase = cp.zeros((R_Nx_padded,R_Ny_padded))\n",
    "    update = cp.zeros((R_Nx_padded,R_Ny_padded))\n",
    "    dx = cp.zeros((R_Nx_padded,R_Ny_padded))\n",
    "    dy = cp.zeros((R_Nx_padded,R_Ny_padded))\n",
    "    error = cp.zeros((n_iter,))\n",
    "    mask = cp.zeros((R_Nx_padded,R_Ny_padded),dtype=bool)\n",
    "    mask[:R_Nx,:R_Ny] = True\n",
    "    maskInv = mask==False\n",
    "    if phase_init is not None:\n",
    "        phase[:R_Nx,:R_Ny] = phase_init\n",
    "\n",
    "    # Iterative reconstruction\n",
    "    for i in range(n_iter):\n",
    "\n",
    "        # Update gradient estimates using measured CoM values\n",
    "        dx[mask] -= CoMx_rot.ravel()\n",
    "        dy[mask] -= CoMy_rot.ravel()\n",
    "        dx[maskInv] = 0\n",
    "        dy[maskInv] = 0\n",
    "\n",
    "        # Calculate reconstruction update\n",
    "        update = cp.fft.irfft2( cp.fft.rfft2(dx)*qxOperator + cp.fft.rfft2(dy)*qyOperator)\n",
    "\n",
    "        # Apply update\n",
    "        phase += stepsize*update\n",
    "\n",
    "        # Measure current phase gradients\n",
    "        dx = (cp.roll(phase,(-1,0),axis=(0,1)) - cp.roll(phase,(1,0),axis=(0,1))) / 2.\n",
    "        dy = (cp.roll(phase,(0,-1),axis=(0,1)) - cp.roll(phase,(0,1),axis=(0,1))) / 2.\n",
    "\n",
    "        # Estimate error from cost function, RMS deviation of gradients\n",
    "        xDiff = dx[mask] - CoMx_rot.ravel()\n",
    "        yDiff = dy[mask] - CoMy_rot.ravel()\n",
    "        error[i] = cp.sqrt(cp.mean((xDiff-cp.mean(xDiff))**2 + (yDiff-cp.mean(yDiff))**2))\n",
    "\n",
    "        # Halve step size if error is increasing\n",
    "        if i>0:\n",
    "            if error[i] > error[i-1]:\n",
    "                stepsize /= 2\n",
    "\n",
    "    phase = phase[:R_Nx,:R_Ny]\n",
    "\n",
    "    return phase, error, denominator"
   ]
  },
  {
   "cell_type": "code",
   "execution_count": 6,
   "metadata": {},
   "outputs": [],
   "source": [
    "def run_dpc(regLowPass, regHighPass, stepsize, n_iter):\n",
    "    print(n_iter[0])\n",
    "    dpc, error, denominator = get_phase_from_CoM(comy,comx,np.deg2rad(metadata.rotation_deg),False, regLowPass=regLowPass[0], regHighPass=regHighPass[0], paddingfactor=2,\n",
    "                                                    stepsize=stepsize[0], n_iter=n_iter[0], phase_init=None)\n",
    "\n",
    "    fy = fftshift(cp.abs(fft2(comy))).get()\n",
    "    dd = denominator.get()\n",
    "    dd = fftshift(np.hstack([dd,np.fliplr(dd)]))\n",
    "    dd = dd[::2,::2]\n",
    "    dd = dd[:,:-1]\n",
    "\n",
    "    ps = np.log10((fy * dd) + 1)\n",
    "    \n",
    "    return dpc, error, ps"
   ]
  },
  {
   "cell_type": "code",
   "execution_count": 8,
   "metadata": {},
   "outputs": [
    {
     "name": "stdout",
     "output_type": "stream",
     "text": [
      "20\n"
     ]
    },
    {
     "data": {
      "application/vnd.jupyter.widget-view+json": {
       "model_id": "ae17b0b018864d389649133dd462d95a",
       "version_major": 2,
       "version_minor": 0
      },
      "text/plain": [
       "AppLayout(children=(GridspecLayout(children=(HBox(children=(Canvas(toolbar=Toolbar(toolitems=[('Home', 'Reset …"
      ]
     },
     "metadata": {},
     "output_type": "display_data"
    }
   ],
   "source": [
    "plt.ioff()\n",
    "comy, comx = d.center_of_mass()\n",
    "\n",
    "regLowPass = np.array([1e3])\n",
    "regHighPass = np.array([5e-1])\n",
    "stepsize = np.array([0.9])\n",
    "n_iter = np.array([20]).astype(np.int)\n",
    "\n",
    "dpc, error, ps = run_dpc(regLowPass, regHighPass, stepsize, n_iter)\n",
    "\n",
    "fig1, ax1 = plt.subplots(1,1,figsize=(7.5,7.5))\n",
    "im1 = ax1.imshow(dpc.get(), cmap= plt.cm.get_cmap('bone'))\n",
    "ax1.set_title(f'DPC reconstruction')\n",
    "ax1.set_xticks([])\n",
    "ax1.set_yticks([])\n",
    "ax1.add_artist(ScaleBar(metadata.dr[0]/10,'nm'))\n",
    "divider = make_axes_locatable(ax1)\n",
    "cax = divider.append_axes(\"right\", size=\"5%\", pad=0.05)\n",
    "plt.colorbar(im1, cax=cax)\n",
    "\n",
    "fig2, ax2 = plt.subplots(1,1,figsize=(7.5,7.5))\n",
    "im2 = ax2.imshow(ps, cmap= plt.cm.get_cmap('bone'), alpha=1)\n",
    "ax2.set_title(f'log10(Power spectrum * regularization)')\n",
    "ax2.set_xticks([])\n",
    "ax2.set_yticks([])\n",
    "\n",
    "fig3, ax3 = plt.subplots(1,1,figsize=(7.5,7.5))\n",
    "im3 = ax3.plot(error.get())\n",
    "ax3.set_xlabel('iteration')\n",
    "ax3.set_ylabel('Error')\n",
    "\n",
    "\n",
    "gs = GridspecLayout(1,9)\n",
    "\n",
    "plot_box1 = HBox(children =[fig1.canvas, fig2.canvas, fig3.canvas])   \n",
    "Cslider_box = VBox(width=10)\n",
    "\n",
    "sliders = []\n",
    "\n",
    "i = 0\n",
    "\n",
    "def set_new_data_and_update(dpc, error, ps):\n",
    "    im1.set_data(dpc)\n",
    "    im2.set_data(ps)\n",
    "    \n",
    "    im3[0].set_ydata(error)\n",
    "    im3[0].set_xdata(np.arange(len(error)))\n",
    "    ax3.set_xlim(0,len(error))\n",
    "    ax3.set_ylim(error.min(),error.max())\n",
    "    \n",
    "    im1.set_clim(dpc.min(),dpc.max())\n",
    "    im2.set_clim(ps.min(),ps.max())\n",
    "    \n",
    "    fig1.canvas.draw()\n",
    "    fig1.canvas.flush_events()\n",
    "    \n",
    "    fig2.canvas.draw()\n",
    "    fig2.canvas.flush_events()\n",
    "    \n",
    "#     fig3.canvas.draw()\n",
    "#     fig3.canvas.flush_events()\n",
    "    \n",
    "    \n",
    "    text.value = f'all values set'\n",
    "    plt.draw()\n",
    "    \n",
    "\n",
    "def regLowPass_changed(v):\n",
    "    w = v['new']\n",
    "    text.value = f'{w}'\n",
    "    regLowPass[:] = v['new']\n",
    "    dpc[:], error, ps = run_dpc(regLowPass, regHighPass, stepsize, n_iter)\n",
    "    text.value = f'dpc done'\n",
    "    set_new_data_and_update(dpc.get(), error.get(), ps)\n",
    "    i += 1\n",
    "    text.value = f'{i}'\n",
    "    \n",
    "def regHighPass_changed(v):\n",
    "    regHighPass[:] = v['new']\n",
    "    dpc[:], error, ps = run_dpc(regLowPass, regHighPass, stepsize, n_iter)\n",
    "    set_new_data_and_update(dpc.get(), error.get(), ps)\n",
    "    i += 1\n",
    "    text.value = f'{i}'\n",
    "    \n",
    "def stepsize_changed(v):\n",
    "    stepsize[:]  = v['new']\n",
    "    dpc[:], error, ps = run_dpc(regLowPass, regHighPass, stepsize, n_iter)\n",
    "    set_new_data_and_update(dpc.get(), error.get(), ps)\n",
    "    i += 1\n",
    "\n",
    "def n_iter_changed(v):\n",
    "    n_iter[:] = v['new']\n",
    "    dpc[:], error, ps = run_dpc(regLowPass, regHighPass, stepsize, n_iter)\n",
    "    set_new_data_and_update(dpc.get(), error.get(), ps)\n",
    "    i += 1\n",
    "    text.value = f'{i}'\n",
    "    \n",
    "s1 = FloatLogSlider(description='regLowPass',value=1e3,base=10,step=0.2, min=0, max=6)\n",
    "s1.observe(regLowPass_changed, names='value')\n",
    "sliders.append(s1)\n",
    "\n",
    "s2 = FloatLogSlider(description='regHighPass',value=5e-1,base=10,step=0.2, min=-2, max=4)\n",
    "s2.observe(regHighPass_changed, names='value')\n",
    "sliders.append(s2)\n",
    "\n",
    "s3 = FloatSlider(description='stepsize',value=0.9, min=0.1, max=2)\n",
    "s3.observe(stepsize_changed, names='value')\n",
    "sliders.append(s3)\n",
    "\n",
    "s4 = IntSlider(description='n_iter',value=20, min=1, max=500)\n",
    "s4.observe(n_iter_changed, names='value')\n",
    "sliders.append(s4)\n",
    "\n",
    "text = widgets.HTML(\n",
    "    value=\"1\",\n",
    "    placeholder='',\n",
    "    description='',\n",
    ")\n",
    "Cslider_box.children=sliders+ [text]\n",
    "\n",
    "gs[0,1:] = plot_box1\n",
    "gs[0,0] = Cslider_box\n",
    "\n",
    "AppLayout(center=gs)"
   ]
  },
  {
   "cell_type": "code",
   "execution_count": 9,
   "metadata": {},
   "outputs": [
    {
     "data": {
      "application/vnd.jupyter.widget-view+json": {
       "model_id": "acf11352a09c4ceb89be3d03332c7c62",
       "version_major": 2,
       "version_minor": 0
      },
      "text/plain": [
       "AppLayout(children=(Canvas(layout=Layout(grid_area='center'), toolbar=Toolbar(toolitems=[('Home', 'Reset origi…"
      ]
     },
     "metadata": {},
     "output_type": "display_data"
    }
   ],
   "source": [
    "m = 10\n",
    "fig3, ax3 = plt.subplots(1,1,dpi=300)\n",
    "im3 = ax3.imshow(dpc.get()[m:-m,m:-m], cmap= plt.cm.get_cmap('bone'))\n",
    "fig3.savefig(results_path / 'dpc.pdf')\n",
    "AppLayout(center=fig3.canvas)"
   ]
  },
  {
   "cell_type": "code",
   "execution_count": 11,
   "metadata": {},
   "outputs": [],
   "source": [
    "imwrite(results_path /f'scan{scan_number}_dpc', dpc.get().astype('float32'), imagej=True, resolution=(1./(metadata.dr[0]/10), 1./(metadata.dr[1]/10)), metadata={'spacing': 1 / 10, 'unit': 'nm', 'axes': 'YX'})"
   ]
  }
 ],
 "metadata": {
  "kernelspec": {
   "display_name": "Python 3",
   "language": "python",
   "name": "python3"
  },
  "language_info": {
   "codemirror_mode": {
    "name": "ipython",
    "version": 3
   },
   "file_extension": ".py",
   "mimetype": "text/x-python",
   "name": "python",
   "nbconvert_exporter": "python",
   "pygments_lexer": "ipython3",
   "version": "3.8.8"
  },
  "pycharm": {
   "stem_cell": {
    "cell_type": "raw",
    "metadata": {
     "collapsed": false
    },
    "source": []
   }
  }
 },
 "nbformat": 4,
 "nbformat_minor": 4
}
