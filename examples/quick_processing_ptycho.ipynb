{
 "cells": [
  {
   "cell_type": "code",
   "execution_count": 4,
   "metadata": {
    "pycharm": {
     "is_executing": false
    }
   },
   "outputs": [],
   "source": [
    "%matplotlib widget\n",
    "import numpy as np\n",
    "import cupy as cp\n",
    "\n",
    "import matplotlib.pyplot as plt \n",
    "from matplotlib_scalebar.scalebar import ScaleBar\n",
    "from mpl_toolkits.axes_grid1 import make_axes_locatable\n",
    "\n",
    "import realtime_ptycho as sm\n",
    "from realtime_ptycho.core import Sparse4DData, Metadata4D\n",
    "from realtime_ptycho.util import get_qx_qy_1D, get_qx_qy_2D, disk_overlap_function, plotcxmosaic, sector_mask, plot, single_sideband_reconstruction, imsave, mosaic, sparse_to_dense_datacube, wavelength\n",
    "\n",
    "from numpy.fft import fftshift\n",
    "\n",
    "from pathlib import Path\n",
    "\n",
    "from tifffile import  imwrite\n",
    "import time\n",
    "\n",
    "from ipywidgets import AppLayout, FloatSlider, GridspecLayout, VBox\n",
    "import ipywidgets as widgets\n",
    "\n",
    "import time\n",
    "\n",
    "import cupy as cp\n",
    "from cupyx.scipy.fft import fft2\n",
    "\n",
    "from tqdm import trange\n",
    "from skimage.filters import gaussian\n",
    "\n",
    "import os"
   ]
  },
  {
   "cell_type": "code",
   "execution_count": 5,
   "metadata": {},
   "outputs": [],
   "source": [
    "scan_number = 147\n",
    "\n",
    "base_path = Path(os.getcwd())\n",
    "adfpath = base_path\n",
    "sparse_path = base_path  \n",
    "results_path = base_path / 'results/'\n",
    "\n",
    "if not results_path.exists():\n",
    "    results_path.mkdir()\n",
    "    \n",
    "filename4d = sparse_path / f'data_scan{scan_number}_th4.0_electrons.h5'\n",
    "filenameadf = adfpath / f'scan{scan_number}.dm4'\n",
    "\n",
    "alpha_max_factor = 1.2\n",
    "alpha_max_factor = 1.05"
   ]
  },
  {
   "cell_type": "code",
   "execution_count": 7,
   "metadata": {
    "collapsed": false,
    "jupyter": {
     "outputs_hidden": false
    },
    "pycharm": {
     "is_executing": false,
     "name": "#%%\n"
    }
   },
   "outputs": [
    {
     "name": "stdout",
     "output_type": "stream",
     "text": [
      "1: data loading\n",
      "center: [292.20951103 160.73790153]\n",
      "radius: 123.21053157858441\n",
      "2: cropping\n",
      "old frames frame_dimensions: [576 576]\n",
      "new frames frame_dimensions: [258 258]\n",
      "3: sum diffraction pattern\n",
      "4: plotting\n"
     ]
    },
    {
     "data": {
      "application/vnd.jupyter.widget-view+json": {
       "model_id": "b40e27739f0844abb853389a9dd42b64",
       "version_major": 2,
       "version_minor": 0
      },
      "text/plain": [
       "Canvas(toolbar=Toolbar(toolitems=[('Home', 'Reset original view', 'home', 'home'), ('Back', 'Back to previous …"
      ]
     },
     "metadata": {},
     "output_type": "display_data"
    }
   ],
   "source": [
    "print('1: data loading')\n",
    "d = Sparse4DData.from_4Dcamera_file(filename4d)\n",
    "metadata = Metadata4D.from_dm4_file(filenameadf)\n",
    "\n",
    "metadata.alpha_rad = 25e-3\n",
    "metadata.rotation_deg = 0\n",
    "metadata.wavelength =  wavelength(metadata.E_ev)  \n",
    "\n",
    "center, radius = d.determine_center_and_radius(manual=False, size=200) \n",
    "print(f'center: {center}')\n",
    "print(f'radius: {radius}')\n",
    "print('2: cropping')\n",
    "d.crop_symmetric_center_(center, radius*alpha_max_factor)\n",
    "print('3: sum diffraction pattern')\n",
    "s = d.sum_diffraction()\n",
    "print('4: plotting')\n",
    "\n",
    "f,ax = plt.subplots(1,2,figsize=(8,4))\n",
    "imax = ax[0].imshow(s)\n",
    "ax[0].set_title(f'Scan {scan_number} sum after cropping')\n",
    "imax = ax[1].imshow(np.log10(s+1))\n",
    "ax[1].set_title(f'Scan {scan_number} log10(sum) after cropping')\n",
    "plt.colorbar(imax)\n",
    "plt.tight_layout()\n"
   ]
  },
  {
   "cell_type": "code",
   "execution_count": 8,
   "metadata": {
    "pycharm": {
     "is_executing": false,
     "name": "#%%\n"
    }
   },
   "outputs": [
    {
     "data": {
      "application/vnd.jupyter.widget-view+json": {
       "model_id": "e11a820741cb4f469c240f7a8bd4d88d",
       "version_major": 2,
       "version_minor": 0
      },
      "text/plain": [
       "Canvas(toolbar=Toolbar(toolitems=[('Home', 'Reset original view', 'home', 'home'), ('Back', 'Back to previous …"
      ]
     },
     "metadata": {},
     "output_type": "display_data"
    },
    {
     "data": {
      "application/vnd.jupyter.widget-view+json": {
       "model_id": "ffda96b0d0d743c79e46b45da75fa4c8",
       "version_major": 2,
       "version_minor": 0
      },
      "text/plain": [
       "Canvas(toolbar=Toolbar(toolitems=[('Home', 'Reset original view', 'home', 'home'), ('Back', 'Back to previous …"
      ]
     },
     "metadata": {},
     "output_type": "display_data"
    },
    {
     "data": {
      "application/vnd.jupyter.widget-view+json": {
       "model_id": "dfb29c8353f1431ab9beeee07566718c",
       "version_major": 2,
       "version_minor": 0
      },
      "text/plain": [
       "Canvas(toolbar=Toolbar(toolitems=[('Home', 'Reset original view', 'home', 'home'), ('Back', 'Back to previous …"
      ]
     },
     "metadata": {},
     "output_type": "display_data"
    }
   ],
   "source": [
    "abf = d.virtual_annular_image(radius/2, radius, d.frame_dimensions/2)\n",
    "bf = d.virtual_annular_image(0, radius/2, d.frame_dimensions/2)\n",
    "eabf = abf - bf\n",
    "adf = d.virtual_annular_image(radius, d.frame_dimensions[0]/2, d.frame_dimensions/2)\n",
    "\n",
    "bf[bf==0] = bf.mean()\n",
    "abf[abf==0] = abf.mean()\n",
    "\n",
    "fig, ax = plt.subplots(dpi=150)\n",
    "im = ax.imshow(abf, cmap= plt.cm.get_cmap('bone'))\n",
    "ax.set_title(f'Scan {scan_number} ABF')\n",
    "ax.set_xticks([])\n",
    "ax.set_yticks([])\n",
    "ax.add_artist(ScaleBar(metadata.dr[0]/10,'nm'))\n",
    "divider = make_axes_locatable(ax)\n",
    "cax = divider.append_axes(\"right\", size=\"5%\", pad=0.05)\n",
    "plt.colorbar(im, cax=cax)\n",
    "plt.tight_layout()\n",
    "fig, ax = plt.subplots(dpi=150)\n",
    "im = ax.imshow(bf, cmap= plt.cm.get_cmap('bone'))\n",
    "ax.set_title(f'Scan {scan_number} BF')\n",
    "ax.set_xticks([])\n",
    "ax.set_yticks([])\n",
    "ax.add_artist(ScaleBar(metadata.dr[0]/10,'nm'))\n",
    "divider = make_axes_locatable(ax)\n",
    "cax = divider.append_axes(\"right\", size=\"5%\", pad=0.05)\n",
    "plt.colorbar(im, cax=cax)\n",
    "plt.tight_layout()\n",
    "fig, ax = plt.subplots(dpi=150)\n",
    "im = ax.imshow(adf, cmap= plt.cm.get_cmap('bone'))\n",
    "ax.set_title(f'Scan {scan_number} ADF')\n",
    "ax.set_xticks([])\n",
    "ax.set_yticks([])\n",
    "ax.add_artist(ScaleBar(metadata.dr[0]/10,'nm'))\n",
    "divider = make_axes_locatable(ax)\n",
    "cax = divider.append_axes(\"right\", size=\"5%\", pad=0.05)\n",
    "plt.colorbar(im, cax=cax)\n",
    "plt.tight_layout()\n",
    "\n"
   ]
  },
  {
   "cell_type": "code",
   "execution_count": 10,
   "metadata": {
    "pycharm": {
     "is_executing": false
    }
   },
   "outputs": [
    {
     "name": "stdout",
     "output_type": "stream",
     "text": [
      "E               = 80.0             keV\n",
      "λ               = 4.2   pm\n",
      "dR              = [0.31626087 0.31626087] Å\n",
      "scan       size = [512 512]\n",
      "detector   size = [258 258]\n",
      "scan       FOV  = [16.19255676 16.19255676] nm\n",
      "fluence         ~ 21622.471675663513 e/Å^2\n",
      "flux            ~ 7176.036971217062 e/Å^2/s\n"
     ]
    }
   ],
   "source": [
    "dwell_time = 1/87e3\n",
    "detector_to_real_fluence_80kv = 1 \n",
    "\n",
    "fluence = d.fluence(metadata.dr[0]) * detector_to_real_fluence_80kv\n",
    "flux = d.flux(metadata.dr[0], dwell_time) * detector_to_real_fluence_80kv\n",
    "\n",
    "print(f\"E               = {metadata.E_ev/1e3}             keV\")\n",
    "print(f\"λ               = {metadata.wavelength * 1e2:2.2}   pm\")\n",
    "print(f\"dR              = {metadata.dr} Å\")\n",
    "print(f\"scan       size = {d.scan_dimensions}\")\n",
    "print(f\"detector   size = {d.frame_dimensions}\")\n",
    "print(f\"scan       FOV  = {d.scan_dimensions*metadata.dr/10} nm\")\n",
    "print(f\"fluence         ~ {fluence} e/Å^2\")\n",
    "print(f\"flux            ~ {flux} e/Å^2/s\")"
   ]
  },
  {
   "cell_type": "code",
   "execution_count": 11,
   "metadata": {},
   "outputs": [
    {
     "data": {
      "application/vnd.jupyter.widget-view+json": {
       "model_id": "a38b26a60ffd4dd3a89158a19a562411",
       "version_major": 2,
       "version_minor": 0
      },
      "text/plain": [
       "Canvas(toolbar=Toolbar(toolitems=[('Home', 'Reset original view', 'home', 'home'), ('Back', 'Back to previous …"
      ]
     },
     "metadata": {},
     "output_type": "display_data"
    },
    {
     "data": {
      "text/plain": [
       "<matplotlib.colorbar.Colorbar at 0x7efcdd14eb80>"
      ]
     },
     "execution_count": 11,
     "metadata": {},
     "output_type": "execute_result"
    }
   ],
   "source": [
    "dssb = d\n",
    "metadata.k_max = metadata.alpha_rad * alpha_max_factor / metadata.wavelength\n",
    "s = dssb.sum_diffraction()\n",
    "f,ax = plt.subplots(figsize=(4,4))\n",
    "imax = ax.imshow(s)\n",
    "ax.set_title('Sum after cropping for SSB')\n",
    "plt.colorbar(imax)"
   ]
  },
  {
   "cell_type": "code",
   "execution_count": 12,
   "metadata": {},
   "outputs": [
    {
     "name": "stdout",
     "output_type": "stream",
     "text": [
      "radius_data_int : 136 \n",
      "radius_max_int  : 136 \n",
      "dense frame size: 16x 16\n",
      "Bin by 17 for ssb took 0.3138990880106576s\n",
      "FFT along scan coordinate took 0.21235918899765238s\n"
     ]
    }
   ],
   "source": [
    "slic = np.s_[:,:]\n",
    "data = dssb.slice(slic)\n",
    "\n",
    "ssb_size = np.array([15,15])\n",
    "bin_factor = int(np.min(np.floor(data.frame_dimensions/ssb_size)))\n",
    "radius2 = radius/bin_factor\n",
    "meta = metadata\n",
    "verbose = True\n",
    "\n",
    "start = time.perf_counter()\n",
    "dc = sparse_to_dense_datacube(data.indices, data.counts, data.scan_dimensions, data.frame_dimensions, data.frame_dimensions/2, data.frame_dimensions[0]/2, data.frame_dimensions[0]/2, binning=bin_factor, fftshift=False)\n",
    "print(f\"Bin by {bin_factor} for ssb took {time.perf_counter() - start}s\")\n",
    "\n",
    "rmax = dc.shape[-1] // 2\n",
    "alpha_max = rmax / radius2 * meta.alpha_rad\n",
    "\n",
    "r_min = meta.wavelength / (2 * alpha_max)\n",
    "r_min = [r_min, r_min]\n",
    "k_max = [alpha_max / meta.wavelength, alpha_max / meta.wavelength]\n",
    "r_min1 = np.array(r_min)\n",
    "dxy1 = np.array(meta.dr)\n",
    "\n",
    "M = cp.array(dc).astype(cp.float32)\n",
    "xp = cp.get_array_module(M)\n",
    "ny, nx, nky, nkx = M.shape\n",
    "\n",
    "Qx1d, Qy1d = get_qx_qy_1D([nx, ny], meta.dr, M.dtype, fft_shifted=False)\n",
    "\n",
    "start = time.perf_counter()\n",
    "G = fft2(M, axes=(0, 1), overwrite_x=True)\n",
    "G /= cp.sqrt(np.prod(G.shape[:2]))\n",
    "print(f\"FFT along scan coordinate took {time.perf_counter() - start}s\")"
   ]
  },
  {
   "cell_type": "code",
   "execution_count": 13,
   "metadata": {},
   "outputs": [
    {
     "data": {
      "application/vnd.jupyter.widget-view+json": {
       "model_id": "2ec98134ce724ae58d5073bc309d156f",
       "version_major": 2,
       "version_minor": 0
      },
      "text/plain": [
       "Canvas(toolbar=Toolbar(toolitems=[('Home', 'Reset original view', 'home', 'home'), ('Back', 'Back to previous …"
      ]
     },
     "metadata": {},
     "output_type": "display_data"
    },
    {
     "data": {
      "text/plain": [
       "Text(0.5, 1.0, 'Masked absolute values of G')"
      ]
     },
     "execution_count": 13,
     "metadata": {},
     "output_type": "execute_result"
    }
   ],
   "source": [
    "manual_frequencies = None  # [[20, 62, 490], [454, 12, 57]]\n",
    "\n",
    "Gabs = xp.log10(xp.sum(xp.abs(G), (2, 3)))\n",
    "sh = np.array(Gabs.shape)\n",
    "mask = ~np.array(fftshift(sector_mask(sh, sh // 2, 5, (0, 360))))\n",
    "mask[:,-1] = 0\n",
    "mask[:,0] = 0\n",
    "mask[:,1] = 0\n",
    "\n",
    "gg = Gabs.get()\n",
    "gg[~mask] = gg.mean()\n",
    "fig, ax = plt.subplots(1,2,figsize=(10,5))\n",
    "ax[0].imshow(fftshift(mask))\n",
    "ax[0].set_title('FFT mask')\n",
    "ax[1].imshow(fftshift(gg), cmap=plt.cm.get_cmap('inferno'))\n",
    "ax[1].set_title('Masked absolute values of G')"
   ]
  },
  {
   "cell_type": "code",
   "execution_count": 15,
   "metadata": {},
   "outputs": [
    {
     "name": "stdout",
     "output_type": "stream",
     "text": [
      "(array([  7, 477,  35, 507,   5, 479,  33, 473,  39, 496,  16, 481,  31,\n",
      "       507,   5, 473]), array([  3, 495,  17, 509,   3, 495,  17, 493,  19,  42, 470, 495,  17,\n",
      "       510,   2, 495]))\n",
      "[-0.66084564 -0.5782399  -0.4956342  -0.4130285  -0.33042282 -0.2478171\n",
      " -0.16521141 -0.0826057   0.          0.0826057   0.16521141  0.2478171\n",
      "  0.33042282  0.4130285   0.4956342   0.5782399 ]\n",
      "[-0.66084564 -0.5782399  -0.4956342  -0.4130285  -0.33042282 -0.2478171\n",
      " -0.16521141 -0.0826057   0.          0.0826057   0.16521141  0.2478171\n",
      "  0.33042282  0.4130285   0.4956342   0.5782399 ]\n",
      "[512, 512] [0.31626087 0.31626087]\n",
      "1.5747976\n",
      "1.5747976\n",
      "[ 0.04322974 -0.21614869  0.21614869 -0.03087839  0.03087839 -0.20379734\n",
      "  0.20379734 -0.2408514   0.2408514  -0.09881083  0.09881083 -0.19144599\n",
      "  0.19144599 -0.03087839  0.03087839 -0.2408514 ]\n",
      "[ 0.01852703 -0.10498651  0.10498651 -0.01852703  0.01852703 -0.10498651\n",
      "  0.10498651 -0.11733786  0.11733786  0.25937843 -0.25937843 -0.10498651\n",
      "  0.10498651 -0.01235135  0.01235135 -0.10498651]\n"
     ]
    },
    {
     "data": {
      "application/vnd.jupyter.widget-view+json": {
       "model_id": "726156012bce40e399a0e8a54918ddad",
       "version_major": 2,
       "version_minor": 0
      },
      "text/plain": [
       "Canvas(toolbar=Toolbar(toolitems=[('Home', 'Reset original view', 'home', 'home'), ('Back', 'Back to previous …"
      ]
     },
     "metadata": {},
     "output_type": "display_data"
    }
   ],
   "source": [
    "Gabs = xp.sum(xp.abs(G), (2, 3))\n",
    "sh = np.array(Gabs.shape)\n",
    "\n",
    "n_fit=16\n",
    "meta.rotation_deg = 0.0\n",
    "best_angle = meta.rotation_deg\n",
    "aberrations = xp.zeros((12))\n",
    "aberrations[2] = 0\n",
    "\n",
    "gg = Gabs.get() * mask\n",
    "gg[gg==0] = gg.mean()\n",
    "\n",
    "inds = xp.argsort((gg).ravel()) \n",
    "strongest_object_frequencies = np.unravel_index(inds[-1 - n_fit:-1], G.shape[:2])\n",
    "# print(strongest_object_frequencies[0])\n",
    "# print(strongest_object_frequencies[1])\n",
    "strongest_object_frequencies = strongest_object_frequencies\n",
    "G_max = G[strongest_object_frequencies]\n",
    "\n",
    "r_min1 = np.array(r_min)\n",
    "dxy1 = np.array(meta.dr)\n",
    "\n",
    "r_min1 *= 1\n",
    "dxy1 *= 1.0\n",
    "Kx, Ky = get_qx_qy_1D([nkx, nky], r_min1, G[0, 0, 0, 0].real.dtype, fft_shifted=True)\n",
    "print(strongest_object_frequencies)\n",
    "print(Kx)\n",
    "print(Ky)\n",
    "print([nx, ny], dxy1)\n",
    "Qx1d, Qy1d = get_qx_qy_1D([nx, ny], dxy1, G[0, 0, 0, 0].real.dtype, fft_shifted=False)\n",
    "Qy_max1d = Qy1d[strongest_object_frequencies[0]]\n",
    "Qx_max1d = Qx1d[strongest_object_frequencies[1]]\n",
    "print(Qx1d.max())\n",
    "print(Qy1d.max())\n",
    "print(Qy_max1d)\n",
    "print(Qx_max1d)\n",
    "\n",
    "Gamma = disk_overlap_function(Qx_max1d, Qy_max1d, Kx, Ky, aberrations, best_angle, meta.alpha_rad, meta.wavelength)\n",
    "\n",
    "fig, ax = plt.subplots(1,3,figsize=(19,6))\n",
    "im = ax[0].imshow(np.log10(fftshift(gg)+1), cmap= plt.cm.get_cmap('bone'))\n",
    "ax[0].set_title(f'Scan {1} fft')\n",
    "ax[0].set_xticks([])\n",
    "ax[0].set_yticks([])\n",
    "\n",
    "im = ax[1].imshow(imsave(mosaic(G_max.get() * Gamma.get())), cmap= plt.cm.get_cmap('bone'))\n",
    "ax[1].set_title(f'Scan {1} double overlap')\n",
    "ax[1].set_xticks([])\n",
    "ax[1].set_yticks([])\n",
    "divider = make_axes_locatable(ax[1])\n",
    "\n",
    "im = ax[2].imshow(imsave(mosaic(G_max.get())), cmap= plt.cm.get_cmap('bone'))\n",
    "ax[2].set_title(f'Scan {1} double overlap')\n",
    "ax[2].set_xticks([])\n",
    "ax[2].set_yticks([])\n",
    "divider = make_axes_locatable(ax[1])\n",
    "\n",
    "plt.tight_layout()\n",
    "fig.savefig(results_path /f'scan{1}_fft.png')\n"
   ]
  },
  {
   "cell_type": "code",
   "execution_count": 18,
   "metadata": {
    "pycharm": {
     "is_executing": false,
     "name": "#%%\n"
    }
   },
   "outputs": [
    {
     "name": "stdout",
     "output_type": "stream",
     "text": [
      "SSB took 0.21659923999686725\n"
     ]
    },
    {
     "data": {
      "application/vnd.jupyter.widget-view+json": {
       "model_id": "173f467617834de5ae3519b203f61b9c",
       "version_major": 2,
       "version_minor": 0
      },
      "text/plain": [
       "AppLayout(children=(GridspecLayout(children=(VBox(children=(FloatSlider(value=0.0, description='C1', max=50.0,…"
      ]
     },
     "metadata": {},
     "output_type": "display_data"
    }
   ],
   "source": [
    "\n",
    "plt.ioff()\n",
    "C = xp.zeros((12,))\n",
    "C_names = ['C1','C12a' ,'C12b','C21a','C21b','C23a','C23b','C3','C32a','C32b','C34a','C34b']\n",
    "C_min = [-50,-20,-20,-50,-50,-50,-50,-20,-20,-20,-20,-20]\n",
    "C_max = [50,20,20,50,50,50,50,20,20,20,20,20]\n",
    "C_multiplier = [1e1,1e1,1e1,1e1,1e1,1e1,1e4,1e4,1e4,1e4,1e4]\n",
    "\n",
    "gs = GridspecLayout(4,9)\n",
    "Cslider_box = VBox(width=50)\n",
    "scale_slider_box = VBox()\n",
    "children= []\n",
    "sliders =  []\n",
    "\n",
    "text = widgets.HTML(\n",
    "    value=\"1\",\n",
    "    placeholder='',\n",
    "    description='',\n",
    ")\n",
    "\n",
    "overlaps_output = widgets.Output()\n",
    "# recon_output = widgets.Output()\n",
    "\n",
    "Psi_Qp = cp.zeros((ny, nx), dtype=G.dtype)\n",
    "Psi_Qp_left_sb = cp.zeros((ny, nx), dtype=np.complex64)\n",
    "Psi_Qp_right_sb = cp.zeros((ny, nx), dtype=np.complex64)\n",
    "Psi_Rp = cp.zeros((ny, nx), dtype=G.dtype)\n",
    "Psi_Rp_left_sb = cp.zeros((ny, nx), dtype=np.complex64)\n",
    "Psi_Rp_right_sb = cp.zeros((ny, nx), dtype=np.complex64)\n",
    "\n",
    "start = time.perf_counter()\n",
    "eps = 1e-3\n",
    "single_sideband_reconstruction(\n",
    "    G,\n",
    "    Qx1d,\n",
    "    Qy1d,\n",
    "    Kx,\n",
    "    Ky,\n",
    "    aberrations,\n",
    "    best_angle,\n",
    "    meta.alpha_rad,\n",
    "    Psi_Qp,\n",
    "    Psi_Qp_left_sb,\n",
    "    Psi_Qp_right_sb,\n",
    "    eps,\n",
    "    meta.wavelength,\n",
    ")\n",
    "\n",
    "print(f\"SSB took {time.perf_counter() - start}\")\n",
    "Psi_Rp[:] = ifft2(Psi_Qp, norm=\"ortho\")\n",
    "Psi_Rp_left_sb[:] = ifft2(Psi_Qp_left_sb, norm=\"ortho\")\n",
    "Psi_Rp_right_sb[:] = ifft2(Psi_Qp_right_sb, norm=\"ortho\")\n",
    "\n",
    "Gamma = disk_overlap_function(Qx_max1d, Qy_max1d, Kx, Ky, aberrations, best_angle, meta.alpha_rad, meta.wavelength)\n",
    "gg = Gamma * G_max\n",
    "\n",
    "overlap_figure_axes = []\n",
    "with overlaps_output:\n",
    "    overlap_figure = plt.figure(constrained_layout=True,figsize=(7,7))\n",
    "    gs1 = overlap_figure.add_gridspec(3, 3, wspace=0.05,hspace=0.05)\n",
    "    for d, ggs in zip(gg[:9], gs1):\n",
    "        f3_ax1 = overlap_figure.add_subplot(ggs)\n",
    "        imax2 = f3_ax1.imshow(imsave(d.get()))\n",
    "        f3_ax1.set_xticks([])\n",
    "        f3_ax1.set_yticks([])\n",
    "        overlap_figure_axes.append(imax2)\n",
    "\n",
    "#     plt.show(fig3)\n",
    "\n",
    "plot_box = VBox(children =[overlap_figure.canvas])    \n",
    "\n",
    "recon_fig, recon_axes = plt.subplots(figsize=(9,9))\n",
    "recon_img = recon_axes.imshow(np.angle(Psi_Rp.get()), cmap=plt.get_cmap('bone'))\n",
    "recon_axes.set_xticks([])\n",
    "recon_axes.set_yticks([])\n",
    "scalebar = ScaleBar(meta.dr[0]/10,'nm') # 1 pixel = 0.2 meter\n",
    "recon_axes.add_artist(scalebar)\n",
    "plt.tight_layout()\n",
    "\n",
    "def create_function(name, i, multiplier):\n",
    "    def func1(change):\n",
    "        C[i] = change['new']*multiplier\n",
    "        Psi_Qp[:] = 0\n",
    "        Psi_Qp_left_sb[:] = 0\n",
    "        Psi_Qp_right_sb[:] = 0\n",
    "        single_sideband_reconstruction(\n",
    "            G,\n",
    "            Qx1d,\n",
    "            Qy1d,\n",
    "            Kx,\n",
    "            Ky,\n",
    "            C,\n",
    "            best_angle,\n",
    "            meta.alpha_rad,\n",
    "            Psi_Qp,\n",
    "            Psi_Qp_left_sb,\n",
    "            Psi_Qp_right_sb,\n",
    "            eps,\n",
    "            meta.wavelength,\n",
    "        )\n",
    "        m = 5\n",
    "\n",
    "        Psi_Rp[:] = ifft2(Psi_Qp, norm=\"ortho\")\n",
    "        Psi_Rp_left_sb[:] = ifft2(Psi_Qp_left_sb, norm=\"ortho\")\n",
    "        Psi_Rp_right_sb[:] = ifft2(Psi_Qp_right_sb, norm=\"ortho\")\n",
    "\n",
    "        # Psi_Rp = fft.ifft2(Psi_Qp_left_sb, norm=\"ortho\")\n",
    "        img = np.angle(Psi_Rp_left_sb.get()[m:-m,m:-m])\n",
    "        recon_img.set_data(img)\n",
    "        recon_img.set_clim(img.min(),img.max())\n",
    "        recon_fig.canvas.draw()\n",
    "        recon_fig.canvas.flush_events()\n",
    "\n",
    "        Gamma = disk_overlap_function(Qx_max1d, Qy_max1d, Kx, Ky, C, best_angle, meta.alpha_rad, meta.wavelength)\n",
    "        gg = Gamma * G_max\n",
    "        for ax, g in zip(overlap_figure_axes,gg):\n",
    "            ax.set_data(imsave(g.get()))\n",
    "        overlap_figure.canvas.draw()\n",
    "        overlap_figure.canvas.flush_events()\n",
    "        text.value = f'{C[i]}'\n",
    "    func1.__name__ = name\n",
    "    return func1\n",
    "\n",
    "for i, (name, mins, maxs, multiplier) in enumerate(zip(C_names, C_min, C_max, C_multiplier)):\n",
    "    s = FloatSlider(description=name,\n",
    "                   min=mins, max = maxs)\n",
    "    s.observe(create_function(f'slider_changed_{i}', i, multiplier), names='value')\n",
    "    sliders.append(s)\n",
    "    children.append(s)\n",
    "\n",
    "Cslider_box.children = children + [text]\n",
    "\n",
    "gs[:2,0] = Cslider_box\n",
    "gs[2:,0] = scale_slider_box\n",
    "gs[:,1:5] = plot_box\n",
    "gs[:,5:9] = recon_fig.canvas\n",
    "\n",
    "AppLayout(center=gs)\n",
    "\n"
   ]
  },
  {
   "cell_type": "code",
   "execution_count": 19,
   "metadata": {},
   "outputs": [
    {
     "name": "stdout",
     "output_type": "stream",
     "text": [
      "defocus: -53.0\n"
     ]
    }
   ],
   "source": [
    "data = dssb \n",
    "bright_field_radius = radius\n",
    "\n",
    "ssb_size = np.array([32,32])\n",
    "bin_factor = int(np.min(np.floor(data.frame_dimensions/ssb_size)))\n",
    "meta = metadata\n",
    "\n",
    "Psi_Qp = cp.zeros((ny, nx), dtype=G.dtype)\n",
    "Psi_Qp_left_sb = cp.zeros((ny, nx), dtype=np.complex64)\n",
    "Psi_Qp_right_sb = cp.zeros((ny, nx), dtype=np.complex64)\n",
    "\n",
    "print(f'defocus: {C[0]}')\n",
    "\n",
    "eps = 1e-3\n",
    "single_sideband_reconstruction(\n",
    "    G,\n",
    "    Qx1d,\n",
    "    Qy1d,\n",
    "    Kx,\n",
    "    Ky,\n",
    "    C,\n",
    "    best_angle,\n",
    "    meta.alpha_rad,\n",
    "    Psi_Qp,\n",
    "    Psi_Qp_left_sb,\n",
    "    Psi_Qp_right_sb,\n",
    "    eps,\n",
    "    meta.wavelength,\n",
    ")\n",
    "\n",
    "Psi_Rp_left_sb = ifft2(Psi_Qp_left_sb, norm=\"ortho\")\n",
    "Psi_Rp_right_sb = ifft2(Psi_Qp_right_sb, norm=\"ortho\")\n",
    "Psi_Rp = ifft2(Psi_Qp, norm=\"ortho\")\n",
    "\n",
    "ssb_defocal = Psi_Rp.get()\n",
    "ssb_defocal_right = Psi_Rp_right_sb.get()\n",
    "ssb_defocal_left = Psi_Rp_left_sb.get()"
   ]
  },
  {
   "cell_type": "code",
   "execution_count": 21,
   "metadata": {},
   "outputs": [
    {
     "data": {
      "application/vnd.jupyter.widget-view+json": {
       "model_id": "ce142293f65f4d40b9a98a91a3576230",
       "version_major": 2,
       "version_minor": 0
      },
      "text/plain": [
       "AppLayout(children=(Canvas(layout=Layout(grid_area='center'), toolbar=Toolbar(toolitems=[('Home', 'Reset origi…"
      ]
     },
     "metadata": {},
     "output_type": "display_data"
    }
   ],
   "source": [
    "\n",
    "th= 0.03\n",
    "fig, ax = plt.subplots(dpi=300)\n",
    "im1 = ax.imshow(np.angle(ssb_defocal_right), cmap= plt.cm.get_cmap('bone'))\n",
    "ax.set_title(f'Scan {scan_number} SSB ptychography')\n",
    "ax.set_xticks([])\n",
    "ax.set_yticks([])\n",
    "ax.add_artist(ScaleBar(metadata.dr[0]/10,'nm'))\n",
    "fig.savefig(results_path / 'ptycho1.pdf')\n",
    "AppLayout(center=fig.canvas)"
   ]
  },
  {
   "cell_type": "code",
   "execution_count": 23,
   "metadata": {},
   "outputs": [],
   "source": [
    "imwrite(results_path /f'scan{scan_number}_ssb_ptycho_best_right.tif',np.angle(ssb_defocal_right).astype('float32'), imagej=True, resolution=(1./(metadata.dr[0]/10), 1./(metadata.dr[1]/10)), metadata={'spacing': 1 / 10, 'unit': 'nm', 'axes': 'YX'})"
   ]
  }
 ],
 "metadata": {
  "kernelspec": {
   "display_name": "Python 3",
   "language": "python",
   "name": "python3"
  },
  "language_info": {
   "codemirror_mode": {
    "name": "ipython",
    "version": 3
   },
   "file_extension": ".py",
   "mimetype": "text/x-python",
   "name": "python",
   "nbconvert_exporter": "python",
   "pygments_lexer": "ipython3",
   "version": "3.8.8"
  },
  "pycharm": {
   "stem_cell": {
    "cell_type": "raw",
    "metadata": {
     "collapsed": false
    },
    "source": []
   }
  }
 },
 "nbformat": 4,
 "nbformat_minor": 4
}
