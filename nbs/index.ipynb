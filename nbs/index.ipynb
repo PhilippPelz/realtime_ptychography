{
 "cells": [
  {
   "cell_type": "code",
   "execution_count": null,
   "metadata": {},
   "outputs": [],
   "source": [
    "#hide\n",
    "from realtime_ptycho.core import *"
   ]
  },
  {
   "cell_type": "markdown",
   "metadata": {},
   "source": [
    "# Real-time ptychography reconstruction toolbox\n",
    "\n",
    "> This is the code accompanying the paper \"Real-time interactive 4D-STEM phase-contrast imaging from electron event representation data\" to come out in IEEE Signal processing.\n",
    "> The functionality can be seen in the two example notebooks in the 'examples' folder.\n",
    "> Please download the necessary data from "
   ]
  },
  {
   "cell_type": "markdown",
   "metadata": {},
   "source": []
  },
  {
   "cell_type": "markdown",
   "metadata": {},
   "source": []
  },
  {
   "cell_type": "markdown",
   "metadata": {},
   "source": []
  },
  {
   "cell_type": "markdown",
   "metadata": {},
   "source": [
    "## Acknowledgements\n",
    "\n",
    "\n",
    "[Colin Ophus (NCEM/LBL)](https://github.com/cophus) \n",
    "\n",
    "[Peter Ercius (NCEM/LBL)](https://foundry.lbl.gov/about/staff/peter-ercius/)\n",
    "\n",
    "[Mary Scott (NCEM/UCB)](https://github.com/orgs/ScottLabUCB/) \n",
    "\n",
    "[Ian Johnson (former LBL)](https://github.com/) \n",
    "\n",
    "## How to contribute\n",
    "\n",
    "Before committing, run\n",
    "\n",
    "`nbdev_build_lib && nbdev_clean_nbs && nbdev_build_docs`\n",
    "\n",
    "to compile the notebook into script files, clean the notebooks, and build the documentation.\n",
    "\n",
    "Do not edit this README directly, rather edit index.ipynb and regenerate the README."
   ]
  }
 ],
 "metadata": {
  "kernelspec": {
   "display_name": "Python 3",
   "language": "python",
   "name": "python3"
  }
 },
 "nbformat": 4,
 "nbformat_minor": 4
}
