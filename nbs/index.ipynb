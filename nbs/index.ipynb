{
 "cells": [
  {
   "cell_type": "code",
   "execution_count": null,
   "metadata": {},
   "outputs": [],
   "source": [
    "#hide\n",
    "from realtime_ptycho.core import *"
   ]
  },
  {
   "cell_type": "markdown",
   "metadata": {},
   "source": [
    "# Real-time ptychography reconstruction toolbox"
   ]
  },
  {
   "cell_type": "markdown",
   "metadata": {},
   "source": [
    "This is the code accompanying the paper \"Real-time interactive 4D-STEM phase-contrast imaging from electron event representation data\" \n",
    "to come out in IEEE Signal processing. The functionality can be seen in the two example notebooks in the 'examples' folder. "
   ]
  },
  {
   "cell_type": "markdown",
   "metadata": {},
   "source": [
    "Please download the necessary data from [here](https://drive.google.com/file/d/12QjOpIixxsDIjizbaUVHaxJmrgu5lPUG/view?usp=sharing) and \n",
    "[here](https://drive.google.com/file/d/1b0zlTCXOBXvnwUkBx-1NT2j6zb9uf2xw/view?usp=sharing) and put them in the example directory"
   ]
  },
  {
   "cell_type": "markdown",
   "metadata": {},
   "source": [
    "## Get started\n",
    "You can then set up a conda environment with all dependencies like so:\n",
    "```\n",
    "conda env create -f environment.yml\n",
    "conda activate cu11\n",
    "```"
   ]
  },
  {
   "cell_type": "markdown",
   "metadata": {},
   "source": [
    "## Acknowledgements\n",
    "\n",
    "[Colin Ophus (NCEM/LBL)](https://github.com/cophus) \n",
    "\n",
    "[Peter Ercius (NCEM/LBL)](https://foundry.lbl.gov/about/staff/peter-ercius/)\n",
    "\n",
    "[Mary Scott (NCEM/UCB)](https://github.com/orgs/ScottLabUCB/) \n",
    "\n",
    "[Ian Johnson (former LBL)](https://github.com/) \n",
    "\n",
    "## How to contribute\n",
    "\n",
    "Before committing, run\n",
    "\n",
    "`nbdev_build_lib && nbdev_clean_nbs && nbdev_build_docs`\n",
    "\n",
    "to compile the notebook into script files, clean the notebooks, and build the documentation.\n",
    "\n",
    "Do not edit this README directly, rather edit index.ipynb and regenerate the README.\n",
    "\n",
    "## Citation\n",
    "If you find our work useful in your research, please cite:\n",
    "```\n",
    "@article{pelz2021realtimeptycho,\n",
    "   title={Real-time interactive 4D-STEM phase-contrast imaging from electron event representation data},\n",
    "   url={https://arxiv.org/abs/2104.06336},\n",
    "   author={Pelz, Philipp and Ercius, Peter and Ophus, Colin and Johnson, Ian and Scott, Mary},\n",
    "   year={2021},\n",
    "   month={Jul}\n",
    "}\n",
    "```\n",
    "\n",
    "## Contact\n",
    "If you have any questions, please feel free to email the authors."
   ]
  }
 ],
 "metadata": {
  "kernelspec": {
   "display_name": "Python 3",
   "language": "python",
   "name": "python3"
  }
 },
 "nbformat": 4,
 "nbformat_minor": 4
}
