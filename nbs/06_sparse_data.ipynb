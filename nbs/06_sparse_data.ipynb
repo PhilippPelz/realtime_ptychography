{
 "cells": [
  {
   "cell_type": "code",
   "execution_count": 1,
   "outputs": [],
   "source": [
    "#default_exp core"
   ],
   "metadata": {
    "collapsed": false,
    "pycharm": {
     "name": "#%%\n",
     "is_executing": false
    }
   }
  },
  {
   "cell_type": "code",
   "execution_count": 10,
   "outputs": [],
   "source": [
    "#export\n",
    "from realtime_ptycho.util import sparse_to_dense_datacube_crop\n",
    "from py4DSTEM.process.calibration import get_probe_size\n",
    "import cupy as cp\n",
    "import numpy as np\n",
    "from skimage.filters import gaussian\n",
    "import numpy as np\n",
    "import numba.cuda \n",
    "from numba import jit\n",
    "import h5py \n",
    "from realtime_ptycho.util import *\n",
    "import cupy as cp\n",
    "\n",
    "class Sparse4DData:\n",
    "    \n",
    "    def __init__(self):\n",
    "        self.indices = None\n",
    "        self.counts = None\n",
    "        self.scan_dimensions = None \n",
    "        self.frame_dimensions = None \n",
    "    \n",
    "    @staticmethod\n",
    "    def from_4Dcamera_file(filename):\n",
    "        with h5py.File(filename, 'r') as f0:\n",
    "            frames = f0['electron_events/frames'][:]\n",
    "            scan_dimensions = (f0['electron_events/scan_positions'].attrs['Ny'],\n",
    "                               f0['electron_events/scan_positions'].attrs['Nx'])\n",
    "            frame_dimensions = np.array((576, 576))\n",
    "        \n",
    "        def unragged_frames_size(frames):\n",
    "            mm = 0\n",
    "            for ev in frames:\n",
    "                if ev.shape[0] > mm:\n",
    "                    mm = ev.shape[0]\n",
    "            return mm\n",
    "        \n",
    "        def make_unragged_frames(frames, scan_dimensions):\n",
    "            unragged_frame_size = unragged_frames_size(frames.ravel())\n",
    "            fr_full = cp.zeros((frames.ravel().shape[0], unragged_frame_size), dtype=cp.int32)\n",
    "            fr_full[:] = cp.iinfo(fr_full.dtype).max\n",
    "            for ii, ev in enumerate(frames.ravel()):\n",
    "                fr_full[ii, :ev.shape[0]] = cp.array(ev)\n",
    "            fr_full_4d = fr_full.reshape((*scan_dimensions, fr_full.shape[1]))\n",
    "            fr_full_4d = fr_full_4d[:, :-1, :] \n",
    "            return fr_full_4d\n",
    "        \n",
    "        d = Sparse4DData()\n",
    "        d.indices = cp.ascontiguousarray(make_unragged_frames(frames.ravel(), scan_dimensions))\n",
    "        d.scan_dimensions = np.array(d.indices.shape[:2])\n",
    "        d.frame_dimensions = frame_dimensions\n",
    "        d.counts = cp.zeros(d.indices.shape, dtype=cp.bool)\n",
    "        d.counts[d.indices != cp.iinfo(d.indices.dtype).max] = 1\n",
    "        \n",
    "        return d \n",
    "    \n",
    "    def crop_symmetric_center_(self, center, max_radius = None):\n",
    "        if max_radius is None:\n",
    "            y_min_radius = np.min([center[0], self.frame_dimensions[0] - center[0]])\n",
    "            x_min_radius = np.min([center[1], self.frame_dimensions[1] - center[1]])\n",
    "            max_radius = np.min([y_min_radius, x_min_radius])\n",
    "        new_frames, new_frame_dimensions = crop_symmetric_around_center(self.indices,\n",
    "                                                                        self.frame_dimensions,\n",
    "                                                                        center, max_radius)\n",
    "        print(f'old frames frame_dimensions: {self.frame_dimensions}')\n",
    "        print(f'new frames frame_dimensions: {new_frame_dimensions}')\n",
    "        self.indices = new_frames\n",
    "        self.counts = cp.zeros(self.indices.shape, dtype=cp.bool)\n",
    "        self.counts[self.indices != cp.iinfo(self.indices.dtype).max] = 1\n",
    "        self.frame_dimensions = new_frame_dimensions\n",
    "        \n",
    "    def crop_symmetric_center(self, center, max_radius = None):\n",
    "        if max_radius is None:\n",
    "            y_min_radius = np.min([center[0], self.frame_dimensions[0] - center[0]])\n",
    "            x_min_radius = np.min([center[1], self.frame_dimensions[1] - center[1]])\n",
    "            max_radius = np.min([y_min_radius, x_min_radius])\n",
    "        new_frames, new_frame_dimensions = crop_symmetric_around_center(cp.array(self.indices),\n",
    "                                                                        cp.array(self.frame_dimensions),\n",
    "                                                                        center, max_radius)\n",
    "        print(f'old frames frame_dimensions: {self.frame_dimensions}')\n",
    "        print(f'new frames frame_dimensions: {new_frame_dimensions}')\n",
    "        res = Sparse4DData()\n",
    "        res.indices = new_frames\n",
    "        res.counts = cp.zeros(self.indices.shape, dtype=cp.bool)\n",
    "        res.counts[self.indices != cp.iinfo(self.indices.dtype).max] = 1\n",
    "        res.frame_dimensions = new_frame_dimensions\n",
    "        res.scan_dimensions = self.scan_dimensions.copy()\n",
    "        return res\n",
    "    \n",
    "    def rotate_(self, angle_rad, center=None):\n",
    "        if center is None:\n",
    "            center = self.frame_dimensions // 2\n",
    "        new_indices = rotate(self.indices, self.frame_dimensions, center, angle_rad)\n",
    "        self.indices = new_indices\n",
    "    \n",
    "    def rotate(self, angle_rad, center=None):\n",
    "        if center is None:\n",
    "            center = self.frame_dimensions // 2\n",
    "        new_indices = rotate(self.indices, self.frame_dimensions, center, angle_rad)\n",
    "        res = Sparse4DData()\n",
    "        res.indices = new_indices\n",
    "        res.counts = self.counts.copy()\n",
    "        res.frame_dimensions = self.frame_dimensions\n",
    "        res.scan_dimensions = self.scan_dimensions.copy()\n",
    "        return res \n",
    "    \n",
    "    def sum_diffraction(self):\n",
    "        res = sum_frames(self.indices, self.counts, self.frame_dimensions)\n",
    "        return res \n",
    "    \n",
    "    @staticmethod\n",
    "    def _determine_center_and_radius(data , manual=False, size=25):\n",
    "        sh = np.concatenate([data.scan_dimensions,data.frame_dimensions])\n",
    "        c = np.zeros((2,))\n",
    "        c[:] = (sh[-1] // 2, sh[-2] // 2)\n",
    "        c = cp.array(c)\n",
    "        radius = cp.ones((1,)) * sh[-1] // 2  \n",
    "        inds = cp.array(data.indices[:size, :size].astype(cp.uint32))\n",
    "        cts = cp.array(data.counts[:size, :size].astype(cp.uint32))\n",
    "        dc_subset = sparse_to_dense_datacube_crop(inds,cts, (size,size), data.frame_dimensions, c, radius, bin=2)\n",
    "        dcs = cp.sum(dc_subset, (0, 1))\n",
    "        m1 = dcs.get()\n",
    "        m = (gaussian(m1.astype(cp.float32),2) > m1.max() * 3e-1).astype(cp.float)\n",
    "        r, y0, x0 = get_probe_size(m)\n",
    "        return 2 * np.array([y0,x0]), r*2\n",
    "    \n",
    "    def determine_center_and_radius(self, manual=False, size=25):\n",
    "        return Sparse4DData._determine_center_and_radius(self, manual, size=size)\n",
    "    \n",
    "    def to_dense(self, bin_factor):\n",
    "        dense = sparse_to_dense_datacube_crop_gain_mask(self.indices, self.counts.astype(cp.int16), self.scan_dimensions,\n",
    "                                                self.frame_dimensions, self.frame_dimensions/2, self.frame_dimensions[0]/2,\n",
    "                                                self.frame_dimensions[0]/2, binning=bin_factor, fftshift=False)\n",
    "        return dense\n",
    "    \n",
    "    @staticmethod\n",
    "    def from_dense(dense, make_float = False):\n",
    "        res = Sparse4DData()\n",
    "        res.frame_dimensions = np.array(dense.shape[-2:])\n",
    "        res.scan_dimensions = np.array(dense.shape[:2])\n",
    "\n",
    "        inds = np.prod(res.frame_dimensions)\n",
    "        if inds > 2**31:\n",
    "            dtype = cp.int64\n",
    "        elif inds > 2**15:\n",
    "            dtype = cp.int32\n",
    "        elif inds > 2**8:\n",
    "            dtype = cp.int16\n",
    "        else:\n",
    "            dtype = cp.uint8\n",
    "        \n",
    "        nonzeros = cp.sum((dense > 0),(2,3))\n",
    "        nonzeros = cp.max(nonzeros)\n",
    "\n",
    "        bits_counts = np.log2(dense.max())\n",
    "        if make_float:\n",
    "            dtype_counts = cp.float32\n",
    "        else:\n",
    "            if bits_counts > np.log2(2**31-1):\n",
    "                dtype_counts = cp.int64\n",
    "            elif bits_counts > np.log2(2**15-1):\n",
    "                dtype_counts = cp.int32\n",
    "            elif bits_counts > 8:\n",
    "                dtype_counts = cp.int16\n",
    "            else:\n",
    "                dtype_counts = cp.uint8\n",
    "\n",
    "        threadsperblock = (16, 16)\n",
    "        blockspergrid = tuple(np.ceil(res.scan_dimensions / threadsperblock).astype(np.int))\n",
    "        dense = cp.array(dense)\n",
    "        indices = cp.zeros((*dense.shape[:2], nonzeros), dtype=dtype)\n",
    "        indices[:] = cp.iinfo(dtype).max\n",
    "        counts = cp.zeros((*dense.shape[:2], nonzeros), dtype=dtype_counts)\n",
    "        dense_to_sparse_kernel[blockspergrid, threadsperblock](dense, indices, counts, cp.array(res.frame_dimensions))\n",
    "\n",
    "        res.indices = indices.get()\n",
    "        res.counts = counts.get()\n",
    "        \n",
    "        print(f'frame_dimensions: {res.frame_dimensions}')\n",
    "        print(f'scan_dimensions : {res.scan_dimensions}')\n",
    "        print(f'Using dtype: {dtype} for indices')\n",
    "        print(f'Using dtype: {dtype_counts} for counts')\n",
    "        return res\n",
    "    \n",
    "    @staticmethod\n",
    "    def rebin(sparse_data, bin_factor : int):\n",
    "        dense = sparse_to_dense_datacube_crop_gain_mask(sparse_data.indices, sparse_data.counts.astype(cp.int16), sparse_data.scan_dimensions, \n",
    "                                                sparse_data.frame_dimensions, sparse_data.frame_dimensions/2, sparse_data.frame_dimensions[0]/2,\n",
    "                                                sparse_data.frame_dimensions[0]/2, binning=bin_factor, fftshift=False)\n",
    "        sparse = Sparse4DData.from_dense(dense)\n",
    "        return sparse\n",
    "    \n",
    "    @staticmethod\n",
    "    def fftshift(sparse_data):\n",
    "        indices = sparse_data.indices\n",
    "        scan_dimensions = sparse_data.scan_dimensions\n",
    "        frame_dimensions = sparse_data.frame_dimensions\n",
    "        center_frame = frame_dimensions / 2\n",
    "        radius_data = frame_dimensions[0] / 2\n",
    "        \n",
    "        threadsperblock = (16, 16)\n",
    "        blockspergrid = tuple(np.ceil(np.array(indices.shape[:2]) / threadsperblock).astype(np.int))\n",
    "    \n",
    "        no_count_indicator = np.iinfo(indices.dtype).max\n",
    "        inds = cp.array(indices)\n",
    "        fftshift_kernel[blockspergrid, threadsperblock](inds, center_frame, scan_dimensions, no_count_indicator)\n",
    "        sparse_data.indices = inds.get()\n",
    "        return sparse_data\n",
    "    \n",
    "    @staticmethod\n",
    "    def fftshift_and_pad_to(sparse_data, pad_to_frame_dimensions):\n",
    "        indices = sparse_data.indices\n",
    "        scan_dimensions = sparse_data.scan_dimensions\n",
    "        frame_dimensions = sparse_data.frame_dimensions\n",
    "        center_frame = frame_dimensions / 2\n",
    "\n",
    "        threadsperblock = (16, 16)\n",
    "        blockspergrid = tuple(np.ceil(np.array(indices.shape[:2]) / threadsperblock).astype(np.int))\n",
    "\n",
    "        no_count_indicator_old = np.iinfo(indices.dtype).max\n",
    "\n",
    "        inds = np.prod(pad_to_frame_dimensions)\n",
    "        if inds > 2**15:\n",
    "            dtype = cp.int64\n",
    "        elif inds > 2**15:\n",
    "            dtype = cp.int32\n",
    "        elif inds > 2**8:\n",
    "            dtype = cp.int16\n",
    "        else:\n",
    "            dtype = cp.uint8\n",
    "\n",
    "        no_count_indicator_new = cp.iinfo(dtype).max\n",
    "\n",
    "        inds = cp.array(indices, dtype=dtype)\n",
    "        fftshift_pad_kernel[blockspergrid, threadsperblock](inds, center_frame, scan_dimensions, \n",
    "                                                            cp.array(pad_to_frame_dimensions), no_count_indicator_old, \n",
    "                                                            no_count_indicator_new)\n",
    "        sparse_data.indices = inds.get()\n",
    "        sparse_data.frame_dimensions = np.array(pad_to_frame_dimensions)\n",
    "        return sparse_data\n",
    "    \n",
    "    def fftshift_(self):\n",
    "        return Sparse4DData.fftshift(self)\n",
    "    \n",
    "    def fftshift_and_pad_to_(self, pad_to_frame_dimensions):\n",
    "        return Sparse4DData.fftshift_and_pad_to(self, pad_to_frame_dimensions)\n",
    "    \n",
    "    def bin(self, binning_factor):\n",
    "        res = Sparse4DData.rebin(self, binning_factor)                \n",
    "        return res \n",
    "    \n",
    "    def virtual_annular_image(self, inner_radius, outer_radius, center):\n",
    "        img = cp.zeros(tuple(self.scan_dimensions), dtype=np.uint32)\n",
    "        no_count_indicator = np.iinfo(self.indices.dtype).max\n",
    "        threadsperblock = (16, 16)\n",
    "        blockspergrid = tuple(np.ceil(np.array(self.indices.shape[:2]) / threadsperblock).astype(np.int))\n",
    "        virtual_annular_image_kernel[blockspergrid, threadsperblock](img, cp.array(self.indices), cp.array(self.counts.astype(np.uint32)),\n",
    "                                                                     inner_radius, outer_radius, cp.array(center), \n",
    "                                                                     cp.array(self.frame_dimensions), no_count_indicator)\n",
    "        return img.get()\n",
    "    \n",
    "    def fluence(self, dr):\n",
    "        sum_electrons = self.counts.sum()\n",
    "        area = np.prod(self.scan_dimensions) * dr**2\n",
    "        return sum_electrons/area\n",
    "\n",
    "    def flux(self, dr, dwell_time):\n",
    "        fluence = self.fluence(dr)\n",
    "        flux = fluence / (np.prod(self.scan_dimensions) * dwell_time)\n",
    "        return flux \n",
    "    \n",
    "    def slice(self, slice):\n",
    "        res = Sparse4DData()\n",
    "        res.indices = cp.ascontiguousarray(self.indices[slice]) \n",
    "        res.counts = cp.ascontiguousarray(self.counts[slice])\n",
    "        res.scan_dimensions = np.array(res.counts.shape[:2])\n",
    "        res.frame_dimensions = self.frame_dimensions.copy()     \n",
    "        return res \n",
    "    \n",
    "    def center_of_mass(self):\n",
    "        qx, qy = np.meshgrid(np.arange(self.scan_dimensions[0]),np.arange(self.scan_dimensions[1]))    \n",
    "        comx = cp.zeros(self.scan_dimensions, dtype=cp.float32)\n",
    "        comy = cp.zeros(self.scan_dimensions, dtype=cp.float32)\n",
    "        \n",
    "        no_count_indicator = np.iinfo(self.indices.dtype).max\n",
    "        \n",
    "        mass = cp.sum(self.counts,2)\n",
    "        \n",
    "        threadsperblock = (16, 16)\n",
    "        blockspergrid = tuple(np.ceil(np.array(self.indices.shape[:2]) / threadsperblock).astype(np.int))\n",
    "        \n",
    "        qx = cp.array(qx).astype(cp.float32)\n",
    "        qy = cp.array(qy).astype(cp.float32)\n",
    "        center_of_mass_kernel[blockspergrid, threadsperblock](comx, comy, self.indices, self.counts.astype(cp.uint32), \n",
    "                                                              cp.array(self.frame_dimensions), no_count_indicator, qx, qy)\n",
    "        comy = comy \n",
    "        comx = comx \n",
    "        comx /= mass + 1e-6\n",
    "        comy /= mass + 1e-6\n",
    "        comy[comy==0] = cp.mean(comy[comy!=0])\n",
    "        comx[comx==0] = cp.mean(comx[comx!=0])\n",
    "        comx -= cp.mean(comx)\n",
    "        comy -= cp.mean(comy)\n",
    "        return comy, comx"
   ],
   "metadata": {
    "collapsed": false,
    "pycharm": {
     "name": "#%%\n",
     "is_executing": false
    }
   }
  },
  {
   "cell_type": "code",
   "execution_count": 1,
   "outputs": [],
   "source": [
    "# import smatrix as sm\n",
    "# from smatrix.core import Sparse4DData\n",
    "# from numpy.fft import fftshift, fft2\n",
    "# import cupy as cp\n",
    "# \n",
    "# # mempool = cp.get_default_memory_pool()\n",
    "# # x = cp.array((mempool.total_bytes(),), dtype=cp.uint8)\n",
    "# # del x\n",
    "# \n",
    "# filename = '/home/philipp/nvme/2020-09-22/4d/data_scan160_th4.0_electrons.h5'\n",
    "# d = Sparse4DData.from_4Dcamera_file(filename)\n",
    "# "
   ],
   "metadata": {
    "collapsed": false,
    "pycharm": {
     "name": "#%%\n",
     "is_executing": false
    }
   }
  },
  {
   "cell_type": "code",
   "execution_count": 2,
   "outputs": [],
   "source": [
    "# center, radius = d.determine_center_and_radius(manual=False) \n",
    "# "
   ],
   "metadata": {
    "collapsed": false,
    "pycharm": {
     "name": "#%%\n",
     "is_executing": false
    }
   }
  },
  {
   "cell_type": "code",
   "execution_count": 3,
   "outputs": [
    {
     "name": "stdout",
     "text": [
      "old frames shape: (512, 512, 2029)\nnew frames shape: (512, 512, 2029)\nold frames frame_dimensions: [576 576]\nnew frames frame_dimensions: [342 342]\n"
     ],
     "output_type": "stream"
    }
   ],
   "source": [
    "# d.crop_symmetric_center_(center)\n",
    "# "
   ],
   "metadata": {
    "collapsed": false,
    "pycharm": {
     "name": "#%%\n",
     "is_executing": false
    }
   }
  },
  {
   "cell_type": "code",
   "execution_count": 4,
   "outputs": [
    {
     "name": "stdout",
     "text": [
      "0\n7224922624\n"
     ],
     "output_type": "stream"
    }
   ],
   "source": [
    "# mempool = cp.get_default_memory_pool()\n",
    "# print(mempool.used_bytes())              # 0\n",
    "# print(mempool.total_bytes())             # 0\n",
    "# mempool.free_all_blocks()\n",
    "# "
   ],
   "metadata": {
    "collapsed": false,
    "pycharm": {
     "name": "#%%\n",
     "is_executing": false
    }
   }
  },
  {
   "cell_type": "code",
   "execution_count": 5,
   "outputs": [
    {
     "data": {
      "text/plain": "<matplotlib.colorbar.Colorbar at 0x7f55765c2f10>"
     },
     "metadata": {},
     "output_type": "execute_result",
     "execution_count": 5
    },
    {
     "data": {
      "text/plain": "<Figure size 720x720 with 2 Axes>",
      "image/png": "[encoded data removed]"
     },
     "metadata": {
      "needs_background": "light"
     },
     "output_type": "display_data"
    }
   ],
   "source": [
    "# s = d.sum_diffraction()\n",
    "# \n",
    "# def rebin(arr, new_shape):\n",
    "#     shape = (new_shape[0], arr.shape[0] // new_shape[0],\n",
    "#              new_shape[1], arr.shape[1] // new_shape[1])\n",
    "#     return arr.reshape(shape).sum(-1).sum(1)\n",
    "# f,ax = plt.subplots(figsize=(10,10))\n",
    "# s = rebin(s,np.array(s.shape)//6)\n",
    "# s1 = np.abs(fftshift(fft2(s)))\n",
    "# imax = ax.imshow(s)\n",
    "# plt.colorbar(imax)\n",
    "# "
   ],
   "metadata": {
    "collapsed": false,
    "pycharm": {
     "name": "#%%\n",
     "is_executing": false
    }
   }
  },
  {
   "cell_type": "code",
   "execution_count": 6,
   "outputs": [
    {
     "name": "stdout",
     "text": [
      "0\n936448\n"
     ],
     "output_type": "stream"
    }
   ],
   "source": [
    "# mempool = cp.get_default_memory_pool()\n",
    "# print(mempool.used_bytes())              # 0\n",
    "# print(mempool.total_bytes())             # 0\n",
    "# "
   ],
   "metadata": {
    "collapsed": false,
    "pycharm": {
     "name": "#%%\n",
     "is_executing": false
    }
   }
  },
  {
   "cell_type": "code",
   "execution_count": 8,
   "outputs": [
    {
     "name": "stdout",
     "text": [
      "radius_data_int : 174 \nradius_max_int  : 174 \nDense frame size: 58x 58\n[29 29]\n",
      "Using sparse dtype: <class 'numpy.uint16'>\n"
     ],
     "output_type": "stream"
    },
    {
     "data": {
      "text/plain": "<matplotlib.colorbar.Colorbar at 0x7f55766c3400>"
     },
     "metadata": {},
     "output_type": "execute_result",
     "execution_count": 8
    },
    {
     "data": {
      "text/plain": "<Figure size 720x720 with 2 Axes>",
      "image/png": "[encoded data removed]"
     },
     "metadata": {
      "needs_background": "light"
     },
     "output_type": "display_data"
    }
   ],
   "source": [
    "# sparse_data = d.bin(6)\n",
    "# \n",
    "# \n",
    "# f,ax = plt.subplots(figsize=(10,10))\n",
    "# sparse_data.fftshift_and_pad_to_((120,120))\n",
    "# s = sparse_data.sum_diffraction()\n",
    "# imax = ax.imshow(s)\n",
    "# plt.colorbar(imax)\n",
    "# "
   ],
   "metadata": {
    "collapsed": false,
    "pycharm": {
     "name": "#%%\n",
     "is_executing": false
    }
   }
  },
  {
   "cell_type": "code",
   "execution_count": null,
   "outputs": [],
   "source": [
    "# a = np.zeros((1,), dtype=np.uint32)\n",
    "# a[0] = np.iinfo(a.dtype).max\n",
    "# a[0] == np.iinfo(a.dtype).max\n",
    "# "
   ],
   "metadata": {
    "collapsed": false,
    "pycharm": {
     "name": "#%%\n",
     "is_executing": true
    }
   }
  },
  {
   "cell_type": "code",
   "execution_count": 15,
   "outputs": [
    {
     "data": {
      "text/plain": "531890176"
     },
     "metadata": {},
     "output_type": "execute_result",
     "execution_count": 15
    }
   ],
   "source": [
    "# 512 * 512 * 2029\n",
    "# "
   ],
   "metadata": {
    "collapsed": false,
    "pycharm": {
     "name": "#%%\n",
     "is_executing": false
    }
   }
  },
  {
   "cell_type": "code",
   "execution_count": 11,
   "outputs": [
    {
     "data": {
      "text/plain": "array([100, 100])"
     },
     "metadata": {},
     "output_type": "execute_result",
     "execution_count": 11
    }
   ],
   "source": [
    "# sparse_data.frame_dimensions\n",
    "# "
   ],
   "metadata": {
    "collapsed": false,
    "pycharm": {
     "name": "#%%\n",
     "is_executing": false
    }
   }
  },
  {
   "cell_type": "code",
   "execution_count": null,
   "outputs": [],
   "source": [
    "\n"
   ],
   "metadata": {
    "collapsed": false,
    "pycharm": {
     "name": "#%%\n"
    }
   }
  }
 ],
 "metadata": {
  "kernelspec": {
   "display_name": "Python 3",
   "language": "python",
   "name": "python3"
  },
  "language_info": {
   "codemirror_mode": {
    "name": "ipython",
    "version": 3
   },
   "file_extension": ".py",
   "mimetype": "text/x-python",
   "name": "python",
   "nbconvert_exporter": "python",
   "pygments_lexer": "ipython3",
   "version": "3.8.5"
  },
  "pycharm": {
   "stem_cell": {
    "cell_type": "raw",
    "source": [],
    "metadata": {
     "collapsed": false
    }
   }
  }
 },
 "nbformat": 4,
 "nbformat_minor": 4
}