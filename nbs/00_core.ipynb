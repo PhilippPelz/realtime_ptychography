{
 "cells": [
  {
   "cell_type": "code",
   "execution_count": null,
   "metadata": {},
   "outputs": [],
   "source": [
    "# default_exp core"
   ]
  },
  {
   "cell_type": "markdown",
   "metadata": {},
   "source": [
    "# smatrix.core module\n",
    "\n",
    "> API details."
   ]
  },
  {
   "cell_type": "code",
   "execution_count": 1,
   "metadata": {},
   "outputs": [],
   "source": [
    "#hide"
   ]
  },
  {
   "cell_type": "code",
   "execution_count": null,
   "metadata": {
    "pycharm": {
     "name": "#%%\n"
    }
   },
   "outputs": [],
   "source": [
    "import numpy as np\n",
    "#export\n",
    "from ncempy.io.dm import fileDM\n",
    "from smatrix.util import wavelength\n",
    "class Metadata4D:\n",
    "    def __init__(self):\n",
    "        self.dr = None\n",
    "        self.k_max = None\n",
    "        self.alpha_rad = None\n",
    "        self.rotation_deg = None\n",
    "        self.E_ev = None\n",
    "        self.wavelength = None\n",
    "        \n",
    "        \n",
    "    @staticmethod\n",
    "    def from_dm4_file(filename):\n",
    "        m = Metadata4D()\n",
    "        \n",
    "        with fileDM(filename) as f:\n",
    "            m.E_ev = f.allTags['.ImageList.2.ImageTags.Microscope Info.Voltage']\n",
    "            m.dr = np.array(f.scale[-2:]) * 10\n",
    "        m.wavelength = wavelength(m.E_ev)\n",
    "        return m \n"
   ]
  }
 ],
 "metadata": {
  "kernelspec": {
   "display_name": "Python 3",
   "language": "python",
   "name": "python3"
  },
  "language_info": {
   "codemirror_mode": {
    "name": "ipython",
    "version": 3
   },
   "file_extension": ".py",
   "mimetype": "text/x-python",
   "name": "python",
   "nbconvert_exporter": "python",
   "pygments_lexer": "ipython3",
   "version": "3.8.5"
  },
  "pycharm": {
   "stem_cell": {
    "cell_type": "raw",
    "source": [],
    "metadata": {
     "collapsed": false
    }
   }
  }
 },
 "nbformat": 4,
 "nbformat_minor": 4
}